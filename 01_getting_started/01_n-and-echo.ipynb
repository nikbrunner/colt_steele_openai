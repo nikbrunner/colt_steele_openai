{
 "cells": [
  {
   "cell_type": "code",
   "execution_count": 1,
   "id": "71e00e62",
   "metadata": {},
   "outputs": [],
   "source": [
    "import os\n",
    "\n",
    "import openai\n",
    "\n",
    "from dotenv import dotenv_values"
   ]
  },
  {
   "cell_type": "code",
   "execution_count": 2,
   "id": "d885845d",
   "metadata": {
    "scrolled": true
   },
   "outputs": [
    {
     "name": "stderr",
     "output_type": "stream",
     "text": [
      "Python-dotenv could not parse statement starting at line 2\n"
     ]
    }
   ],
   "source": [
    "home_dir = os.path.expanduser(\"~\")\n",
    "zshenv_path = os.path.join(home_dir, \".zshenv\")\n",
    "config = dotenv_values(zshenv_path)"
   ]
  },
  {
   "cell_type": "markdown",
   "id": "a3173891",
   "metadata": {},
   "source": [
    "## `n`\n",
    "\n",
    "integer\n",
    "Optional\n",
    "Defaults to 1\n",
    "\n",
    "How many completions to generate for each prompt.\n",
    "\n",
    "Note: Because this parameter generates many completions, it can quickly consume your token quota. Use carefully and ensure that you have reasonable settings for max_tokens and stop.\n",
    "\n",
    "https://platform.openai.com/docs/api-reference/completions/create#completions/create-n"
   ]
  },
  {
   "cell_type": "markdown",
   "id": "bd8f9d65",
   "metadata": {},
   "source": [
    "## `echo`\n",
    "\n",
    "boolean\n",
    "Optional\n",
    "Defaults to false\n",
    "\n",
    "Echo back the prompt in addition to the completion\n",
    "\n",
    "https://platform.openai.com/docs/api-reference/completions/create#completions/create-echo"
   ]
  },
  {
   "cell_type": "code",
   "execution_count": 12,
   "id": "64f87bb5",
   "metadata": {
    "scrolled": true
   },
   "outputs": [
    {
     "name": "stdout",
     "output_type": "stream",
     "text": [
      "Tell me a joke about death\n",
      "\n",
      "Q: What did the death say to the priest?\n",
      "A: Don't worry, I'm reborn.\n",
      "Tell me a joke about death\n",
      "\n",
      "Q: Why don't skeletons ever go out on the town? \n",
      "A: Because they don't have any body to go with!\n",
      "Tell me a joke about death\n",
      "\n",
      "Q: What did the skeleton say to the bartender?\n",
      "A: Give me something I can really put my bones in!\n"
     ]
    }
   ],
   "source": [
    "response = openai.Completion.create(\n",
    "    prompt = \"Tell me a joke about death\",\n",
    "    engine = \"text-davinci-003\",\n",
    "    max_tokens = 100,\n",
    "    n=3,\n",
    "    echo=True\n",
    ")\n",
    "\n",
    "print(response[\"choices\"][0][\"text\"])\n",
    "print(response[\"choices\"][1][\"text\"])\n",
    "print(response[\"choices\"][2][\"text\"])"
   ]
  },
  {
   "cell_type": "code",
   "execution_count": null,
   "id": "62d3241d",
   "metadata": {},
   "outputs": [],
   "source": []
  }
 ],
 "metadata": {
  "kernelspec": {
   "display_name": "Python 3 (ipykernel)",
   "language": "python",
   "name": "python3"
  },
  "language_info": {
   "codemirror_mode": {
    "name": "ipython",
    "version": 3
   },
   "file_extension": ".py",
   "mimetype": "text/x-python",
   "name": "python",
   "nbconvert_exporter": "python",
   "pygments_lexer": "ipython3",
   "version": "3.11.3"
  }
 },
 "nbformat": 4,
 "nbformat_minor": 5
}
