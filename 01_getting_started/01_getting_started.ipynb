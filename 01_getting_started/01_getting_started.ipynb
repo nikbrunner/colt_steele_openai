{
 "cells": [
  {
   "cell_type": "markdown",
   "id": "3844b1c5",
   "metadata": {},
   "source": [
    "## Links\n",
    "\n",
    "- [Introduction - OpenAI API](https://platform.openai.com/docs/introduction/overview)\n",
    "- [API Reference - OpenAI API (NodeJS)](https://platform.openai.com/docs/api-reference/introduction?lang=node.js)\n",
    "- [openai/openai-node: Node.js library for the OpenAI API](https://github.com/openai/openai-node)"
   ]
  },
  {
   "cell_type": "code",
   "execution_count": 1,
   "id": "71e00e62",
   "metadata": {},
   "outputs": [],
   "source": [
    "import os\n",
    "\n",
    "import openai\n",
    "\n",
    "from dotenv import dotenv_values"
   ]
  },
  {
   "cell_type": "markdown",
   "id": "24aa7817",
   "metadata": {},
   "source": [
    "## Using `.env` Files from another directory\n",
    "\n",
    "\n",
    "```python\n",
    "import os\n",
    "\n",
    "# Example: get the full path to the .zshenv file in the user's home directory\n",
    "home_dir = os.path.expanduser(\"~\")\n",
    "zshenv_path = os.path.join(home_dir, \".zshenv\")\n",
    "print(zshenv_path)\n",
    "```\n",
    "\n",
    "This code first uses `os.path.expanduser` to get the absolute path to the user's home directory, and then uses `os.path.join` to concatenate the home directory path with the filename `.zshenv`. Finally, the code prints out the full path to the `.zshenv` file.\n",
    "\n",
    "You can modify this code to get the full path to any file in the user's home directory by changing the filename in the `os.path.join` function."
   ]
  },
  {
   "cell_type": "code",
   "execution_count": 2,
   "id": "d885845d",
   "metadata": {},
   "outputs": [
    {
     "name": "stderr",
     "output_type": "stream",
     "text": [
      "Python-dotenv could not parse statement starting at line 2\n"
     ]
    }
   ],
   "source": [
    "home_dir = os.path.expanduser(\"~\")\n",
    "zshenv_path = os.path.join(home_dir, \".zshenv\")\n",
    "config = dotenv_values(zshenv_path)"
   ]
  },
  {
   "cell_type": "markdown",
   "id": "e505370d",
   "metadata": {},
   "source": [
    "## Tokens\n",
    "\n",
    "The GPT family of models process text using tokens, which are common sequences of characters found in text. The models understand the statistical relationships between these tokens, and excel at producing the next token in a sequence of tokens.\n",
    "\n",
    "> A helpful rule of thumb is that one token generally corresponds to ~4 characters of text for common English text. This translates to roughly ¾ of a word (so 100 tokens ~= 75 words).\n",
    "\n"
   ]
  },
  {
   "cell_type": "code",
   "execution_count": 3,
   "id": "64f87bb5",
   "metadata": {},
   "outputs": [
    {
     "name": "stdout",
     "output_type": "stream",
     "text": [
      "{\n",
      "  \"choices\": [\n",
      "    {\n",
      "      \"finish_reason\": \"stop\",\n",
      "      \"index\": 0,\n",
      "      \"logprobs\": null,\n",
      "      \"text\": \"\\n\\n1. Shanghai, China\\n2. Beijing, China\\n3. Delhi, India\\n4.  Mumbai, India\\n5. Sao Paulo, Brazil\\n6. Mexico City, Mexico\\n7. Osaka, Japan\\n8. Cairo, Egypt\\n9. Dhaka, Bangladesh\\n10. Istanbul, Turkey\"\n",
      "    }\n",
      "  ],\n",
      "  \"created\": 1682263365,\n",
      "  \"id\": \"cmpl-78Vq1w5eZ2cumEf6AeRfDrDwggtXj\",\n",
      "  \"model\": \"text-davinci-003\",\n",
      "  \"object\": \"text_completion\",\n",
      "  \"usage\": {\n",
      "    \"completion_tokens\": 65,\n",
      "    \"prompt_tokens\": 8,\n",
      "    \"total_tokens\": 73\n",
      "  }\n",
      "}\n"
     ]
    }
   ],
   "source": [
    "response = openai.Completion.create(\n",
    "    prompt = \"The top 10 most populated cities are:\",\n",
    "    engine = \"text-davinci-003\",\n",
    "    max_tokens = 200\n",
    ")\n",
    "\n",
    "print(response)"
   ]
  },
  {
   "cell_type": "code",
   "execution_count": null,
   "id": "d9dcd7e1",
   "metadata": {},
   "outputs": [],
   "source": []
  }
 ],
 "metadata": {
  "kernelspec": {
   "display_name": "Python 3 (ipykernel)",
   "language": "python",
   "name": "python3"
  },
  "language_info": {
   "codemirror_mode": {
    "name": "ipython",
    "version": 3
   },
   "file_extension": ".py",
   "mimetype": "text/x-python",
   "name": "python",
   "nbconvert_exporter": "python",
   "pygments_lexer": "ipython3",
   "version": "3.11.3"
  }
 },
 "nbformat": 4,
 "nbformat_minor": 5
}
