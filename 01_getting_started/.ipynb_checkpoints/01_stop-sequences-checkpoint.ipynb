{
 "cells": [
  {
   "cell_type": "code",
   "execution_count": 1,
   "id": "71e00e62",
   "metadata": {},
   "outputs": [],
   "source": [
    "import os\n",
    "\n",
    "import openai\n",
    "\n",
    "from dotenv import dotenv_values"
   ]
  },
  {
   "cell_type": "code",
   "execution_count": 2,
   "id": "d885845d",
   "metadata": {},
   "outputs": [
    {
     "name": "stderr",
     "output_type": "stream",
     "text": [
      "Python-dotenv could not parse statement starting at line 2\n"
     ]
    }
   ],
   "source": [
    "home_dir = os.path.expanduser(\"~\")\n",
    "zshenv_path = os.path.join(home_dir, \".zshenv\")\n",
    "config = dotenv_values(zshenv_path)"
   ]
  },
  {
   "cell_type": "code",
   "execution_count": 7,
   "id": "64f87bb5",
   "metadata": {
    "scrolled": true
   },
   "outputs": [
    {
     "name": "stdout",
     "output_type": "stream",
     "text": [
      "{\n",
      "  \"choices\": [\n",
      "    {\n",
      "      \"finish_reason\": \"stop\",\n",
      "      \"index\": 0,\n",
      "      \"logprobs\": null,\n",
      "      \"text\": \"\\n\\n1. The Godfather (1972)\\n2. The Shawshank Redemption (1994)\\n3. The Godfather Part II (1974)\\n4. Schindler's List (1993)\\n5. The Lord of the Rings (2001)\\n6. The Dark Knight (2008)\\n7. Pulp Fiction (1994)\\n8. Star Wars (1977)\\n9. Casablanca (1942)\\n10. Citizen Kane (1941)\"\n",
      "    }\n",
      "  ],\n",
      "  \"created\": 1682263781,\n",
      "  \"id\": \"cmpl-78VwjDtx8261lB2RjSG4QXvsUee9g\",\n",
      "  \"model\": \"text-davinci-003\",\n",
      "  \"object\": \"text_completion\",\n",
      "  \"usage\": {\n",
      "    \"completion_tokens\": 99,\n",
      "    \"prompt_tokens\": 11,\n",
      "    \"total_tokens\": 110\n",
      "  }\n",
      "}\n",
      "\n",
      "\n",
      "1. The Godfather (1972)\n",
      "2. The Shawshank Redemption (1994)\n",
      "3. The Godfather Part II (1974)\n",
      "4. Schindler's List (1993)\n",
      "5. The Lord of the Rings (2001)\n",
      "6. The Dark Knight (2008)\n",
      "7. Pulp Fiction (1994)\n",
      "8. Star Wars (1977)\n",
      "9. Casablanca (1942)\n",
      "10. Citizen Kane (1941)\n"
     ]
    }
   ],
   "source": [
    "response = openai.Completion.create(\n",
    "    prompt = \"Generate a list of the best movies of all time\",\n",
    "    engine = \"text-davinci-003\",\n",
    "    max_tokens = 200\n",
    ")\n",
    "print(response)\n",
    "print(\"----------------------------\")\n",
    "print(response[\"choices\"][0][\"text\"])"
   ]
  },
  {
   "cell_type": "code",
   "execution_count": null,
   "id": "11dca8cd",
   "metadata": {},
   "outputs": [],
   "source": []
  }
 ],
 "metadata": {
  "kernelspec": {
   "display_name": "Python 3 (ipykernel)",
   "language": "python",
   "name": "python3"
  },
  "language_info": {
   "codemirror_mode": {
    "name": "ipython",
    "version": 3
   },
   "file_extension": ".py",
   "mimetype": "text/x-python",
   "name": "python",
   "nbconvert_exporter": "python",
   "pygments_lexer": "ipython3",
   "version": "3.11.3"
  }
 },
 "nbformat": 4,
 "nbformat_minor": 5
}
