{
 "cells": [
  {
   "cell_type": "markdown",
   "id": "3844b1c5",
   "metadata": {},
   "source": [
    "## Links\n",
    "\n",
    "- [Introduction - OpenAI API](https://platform.openai.com/docs/introduction/overview)\n",
    "- [API Reference - OpenAI API (NodeJS)](https://platform.openai.com/docs/api-reference/introduction?lang=node.js)\n",
    "- [openai/openai-node: Node.js library for the OpenAI API](https://github.com/openai/openai-node)"
   ]
  },
  {
   "cell_type": "code",
   "execution_count": 1,
   "id": "71e00e62",
   "metadata": {},
   "outputs": [],
   "source": [
    "import os\n",
    "\n",
    "import openai\n",
    "\n",
    "from dotenv import dotenv_values"
   ]
  },
  {
   "cell_type": "code",
   "execution_count": 2,
   "id": "d885845d",
   "metadata": {},
   "outputs": [
    {
     "name": "stderr",
     "output_type": "stream",
     "text": [
      "Python-dotenv could not parse statement starting at line 2\n"
     ]
    },
    {
     "name": "stdout",
     "output_type": "stream",
     "text": [
      "/Users/nikolausbrunner/.zshenv\n"
     ]
    }
   ],
   "source": [
    "dotenv_path = os.path.expanduser(\"~/.zshenv\")\n",
    "print(dotenv_path)\n",
    "config = dotenv_values(dotenv_path)"
   ]
  },
  {
   "cell_type": "code",
   "execution_count": 5,
   "id": "0dad1f8b",
   "metadata": {
    "scrolled": true
   },
   "outputs": [
    {
     "name": "stdout",
     "output_type": "stream",
     "text": [
      "{\n",
      "  \"choices\": [\n",
      "    {\n",
      "      \"finish_reason\": \"stop\",\n",
      "      \"index\": 0,\n",
      "      \"logprobs\": null,\n",
      "      \"text\": \"\\n\\nThe Baha Men\"\n",
      "    }\n",
      "  ],\n",
      "  \"created\": 1682260669,\n",
      "  \"id\": \"cmpl-78V8XFMBh5AtbGn6CtsaWqJ82ZtmB\",\n",
      "  \"model\": \"text-davinci-003\",\n",
      "  \"object\": \"text_completion\",\n",
      "  \"usage\": {\n",
      "    \"completion_tokens\": 6,\n",
      "    \"prompt_tokens\": 6,\n",
      "    \"total_tokens\": 12\n",
      "  }\n",
      "}\n"
     ]
    }
   ],
   "source": [
    "response = openai.Completion.create(\n",
    "    prompt = \"Who let the Dogs out?\",\n",
    "    engine = \"text-davinci-003\",\n",
    "    max_tokens = 200\n",
    ")\n",
    "\n",
    "print(response)"
   ]
  }
 ],
 "metadata": {
  "kernelspec": {
   "display_name": "Python 3 (ipykernel)",
   "language": "python",
   "name": "python3"
  },
  "language_info": {
   "codemirror_mode": {
    "name": "ipython",
    "version": 3
   },
   "file_extension": ".py",
   "mimetype": "text/x-python",
   "name": "python",
   "nbconvert_exporter": "python",
   "pygments_lexer": "ipython3",
   "version": "3.11.3"
  }
 },
 "nbformat": 4,
 "nbformat_minor": 5
}
