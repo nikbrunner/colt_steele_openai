{
 "cells": [
  {
   "cell_type": "code",
   "execution_count": 3,
   "id": "71e00e62",
   "metadata": {},
   "outputs": [],
   "source": [
    "import os\n",
    "\n",
    "import openai\n",
    "\n",
    "from dotenv import dotenv_values"
   ]
  },
  {
   "cell_type": "code",
   "execution_count": 2,
   "id": "d885845d",
   "metadata": {
    "scrolled": true
   },
   "outputs": [
    {
     "name": "stderr",
     "output_type": "stream",
     "text": [
      "Python-dotenv could not parse statement starting at line 2\n"
     ]
    }
   ],
   "source": [
    "home_dir = os.path.expanduser(\"~\")\n",
    "zshenv_path = os.path.join(home_dir, \".zshenv\")\n",
    "config = dotenv_values(zshenv_path)"
   ]
  },
  {
   "cell_type": "code",
   "execution_count": 4,
   "id": "64f87bb5",
   "metadata": {
    "scrolled": true
   },
   "outputs": [
    {
     "name": "stdout",
     "output_type": "stream",
     "text": [
      "{\n",
      "  \"choices\": [\n",
      "    {\n",
      "      \"finish_reason\": \"length\",\n",
      "      \"index\": 0,\n",
      "      \"logprobs\": null,\n",
      "      \"text\": \"\\n\\n1. Take a step back and assess the situation. Break down a task or project into smaller, more manageable chunks. \\n2. Make a schedule or timeline for yourself so that you can focus on one task or project at a time.\\n3. Take breaks throughout the day to relax and collect your thoughts. \\n4. Talk to someone you trust about the situation and ask for help and support.\\n5. Remind yourself of what you\\u2019ve already accomplished and\"\n",
      "    }\n",
      "  ],\n",
      "  \"created\": 1682265377,\n",
      "  \"id\": \"cmpl-78WMT1L4eYAajNYIlJgvc5vptkx1B\",\n",
      "  \"model\": \"text-davinci-003\",\n",
      "  \"object\": \"text_completion\",\n",
      "  \"usage\": {\n",
      "    \"completion_tokens\": 100,\n",
      "    \"prompt_tokens\": 35,\n",
      "    \"total_tokens\": 135\n",
      "  }\n",
      "}\n"
     ]
    }
   ],
   "source": [
    "response = openai.Completion.create(\n",
    "    prompt = \"With everything i learn, i realize how little i know. while i love learning, it is very easy to for me to feel overwhelmed. what can i do about that?\",\n",
    "    engine = \"text-davinci-003\",\n",
    "    max_tokens = 100,\n",
    ")\n",
    "\n",
    "print(response)\n"
   ]
  },
  {
   "cell_type": "code",
   "execution_count": null,
   "id": "62d3241d",
   "metadata": {},
   "outputs": [],
   "source": []
  }
 ],
 "metadata": {
  "kernelspec": {
   "display_name": "Python 3 (ipykernel)",
   "language": "python",
   "name": "python3"
  },
  "language_info": {
   "codemirror_mode": {
    "name": "ipython",
    "version": 3
   },
   "file_extension": ".py",
   "mimetype": "text/x-python",
   "name": "python",
   "nbconvert_exporter": "python",
   "pygments_lexer": "ipython3",
   "version": "3.11.3"
  }
 },
 "nbformat": 4,
 "nbformat_minor": 5
}
