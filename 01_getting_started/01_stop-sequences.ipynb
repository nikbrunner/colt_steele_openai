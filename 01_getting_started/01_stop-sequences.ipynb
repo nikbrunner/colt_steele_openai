{
 "cells": [
  {
   "cell_type": "code",
   "execution_count": 1,
   "id": "71e00e62",
   "metadata": {},
   "outputs": [],
   "source": [
    "import os\n",
    "\n",
    "import openai\n",
    "\n",
    "from dotenv import dotenv_values"
   ]
  },
  {
   "cell_type": "code",
   "execution_count": 2,
   "id": "d885845d",
   "metadata": {},
   "outputs": [
    {
     "name": "stderr",
     "output_type": "stream",
     "text": [
      "Python-dotenv could not parse statement starting at line 2\n"
     ]
    }
   ],
   "source": [
    "home_dir = os.path.expanduser(\"~\")\n",
    "zshenv_path = os.path.join(home_dir, \".zshenv\")\n",
    "config = dotenv_values(zshenv_path)"
   ]
  },
  {
   "cell_type": "markdown",
   "id": "28b8e6b7",
   "metadata": {},
   "source": [
    "## create `stop`\n",
    "\n",
    "stop\n",
    "string or array\n",
    "Optional\n",
    "Defaults to null\n",
    "Up to 4 sequences where the API will stop generating further tokens. The returned text will not contain the stop sequence.\n",
    "\n",
    "https://platform.openai.com/docs/api-reference/completions/create#completions/create-stop"
   ]
  },
  {
   "cell_type": "code",
   "execution_count": 12,
   "id": "64f87bb5",
   "metadata": {
    "scrolled": true
   },
   "outputs": [
    {
     "name": "stdout",
     "output_type": "stream",
     "text": [
      "{\n",
      "  \"choices\": [\n",
      "    {\n",
      "      \"finish_reason\": \"stop\",\n",
      "      \"index\": 0,\n",
      "      \"logprobs\": null,\n",
      "      \"text\": \"\\n\\n1. The Godfather\\n2. The Shawshank Redemption\\n3. Star Wars: Episode V \\u2013 The Empire Strikes Back\\n4. Schindler's List\\n\"\n",
      "    }\n",
      "  ],\n",
      "  \"created\": 1682263990,\n",
      "  \"id\": \"cmpl-78W06YPSMSLzc2qgavHXU3MLQv5d0\",\n",
      "  \"model\": \"text-davinci-003\",\n",
      "  \"object\": \"text_completion\",\n",
      "  \"usage\": {\n",
      "    \"completion_tokens\": 37,\n",
      "    \"prompt_tokens\": 11,\n",
      "    \"total_tokens\": 48\n",
      "  }\n",
      "}\n",
      "----------------------------\n",
      "\n",
      "\n",
      "1. The Godfather\n",
      "2. The Shawshank Redemption\n",
      "3. Star Wars: Episode V – The Empire Strikes Back\n",
      "4. Schindler's List\n",
      "\n"
     ]
    }
   ],
   "source": [
    "response = openai.Completion.create(\n",
    "    prompt = \"Generate a list of the best movies of all time\",\n",
    "    engine = \"text-davinci-003\",\n",
    "    max_tokens = 200,\n",
    "    stop=\"5.\"\n",
    ")\n",
    "\n",
    "\n",
    "print(response)\n",
    "print(\"----------------------------\")\n",
    "print(response[\"choices\"][0][\"text\"])"
   ]
  },
  {
   "cell_type": "code",
   "execution_count": null,
   "id": "1e042d82",
   "metadata": {},
   "outputs": [],
   "source": []
  }
 ],
 "metadata": {
  "kernelspec": {
   "display_name": "Python 3 (ipykernel)",
   "language": "python",
   "name": "python3"
  },
  "language_info": {
   "codemirror_mode": {
    "name": "ipython",
    "version": 3
   },
   "file_extension": ".py",
   "mimetype": "text/x-python",
   "name": "python",
   "nbconvert_exporter": "python",
   "pygments_lexer": "ipython3",
   "version": "3.11.3"
  }
 },
 "nbformat": 4,
 "nbformat_minor": 5
}
